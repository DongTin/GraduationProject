{
 "cells": [
  {
   "cell_type": "code",
   "execution_count": 1,
   "metadata": {
    "pycharm": {
     "name": "#%%\n"
    }
   },
   "outputs": [
    {
     "name": "stdout",
     "output_type": "stream",
     "text": [
      "<class 'str'> 0000 1a00 2f48 0000 2f43 060c 0000 0000 0002 8509 a000 e000 0000 4000 0000 ffff ffff ffff daa1 1940 034e ffff ffff ffff e0c9 0000 0104 0204 0b16 3208 0c12 1824 3048 606c 0301 062d 1a6e 0103 ff00 0000 0000 0000 0000 0000 0000 0000 0000 0000 0000 00dd 0700 50f2 0800 0000 7f05 0000 0a02 01 ,01\n",
      "\n",
      "<class 'str'> 01\n",
      "1\n"
     ]
    }
   ],
   "source": [
    "def turnInt(data):\n",
    "    if data[-3: -2] == ',':\n",
    "        Id = int(data[-2: -1])\n",
    "    else:\n",
    "        Id = int(data[-3:-2]) * 10 + int(data[-2:-1])\n",
    "    return Id\n",
    "\n",
    "with open(\"E:/GraduationProject/data/raw_dataset_label.txt\",\"r\") as f:\n",
    "    data = f.readline()\n",
    "    text_lines = f.readlines()\n",
    "    print(type(data), data)\n",
    "    print(type(data[-2: ]),data[-3: -1])\n",
    "    if data[-3: -2] == ',':\n",
    "        num = int(data[-2: -1])\n",
    "    else:\n",
    "        num = int(data[-3:-2])*10 + int(data[-2:-1])\n",
    "    print(num)\n"
   ]
  },
  {
   "cell_type": "code",
   "execution_count": 2,
   "outputs": [],
   "source": [
    "def getPhoneID(text_lines):\n",
    "    nums = []\n",
    "    #different phone ID list\n",
    "    for data in text_lines:\n",
    "        num = turnInt(data)\n",
    "        if not(num in nums):\n",
    "            nums.append(num)\n",
    "    return nums"
   ],
   "metadata": {
    "collapsed": false,
    "pycharm": {
     "name": "#%%\n"
    }
   }
  },
  {
   "cell_type": "code",
   "execution_count": 3,
   "outputs": [
    {
     "name": "stdout",
     "output_type": "stream",
     "text": [
      "1\n",
      "2\n",
      "3\n",
      "4\n",
      "5\n",
      "6\n",
      "7\n",
      "8\n",
      "9\n",
      "10\n",
      "11\n",
      "12\n",
      "13\n",
      "14\n",
      "15\n",
      "16\n",
      "17\n",
      "18\n",
      "19\n",
      "20\n",
      "21\n",
      "22\n",
      "23\n",
      "24\n",
      "25\n",
      "26\n",
      "27\n",
      "28\n",
      "29\n",
      "30\n",
      "31\n",
      "32\n",
      "33\n",
      "34\n",
      "35\n",
      "36\n",
      "37\n",
      "38\n",
      "39\n",
      "40\n",
      "41\n",
      "42\n",
      "43\n"
     ]
    }
   ],
   "source": [
    "nums = getPhoneID(text_lines)\n",
    "for num in nums:\n",
    "    print(num)"
   ],
   "metadata": {
    "collapsed": false,
    "pycharm": {
     "name": "#%%\n"
    }
   }
  },
  {
   "cell_type": "code",
   "execution_count": 4,
   "outputs": [
    {
     "name": "stdout",
     "output_type": "stream",
     "text": [
      "E:/GraduationProject/datas/phone01.txt\n",
      "E:/GraduationProject/datas/phone02.txt\n",
      "E:/GraduationProject/datas/phone03.txt\n",
      "E:/GraduationProject/datas/phone04.txt\n",
      "E:/GraduationProject/datas/phone05.txt\n",
      "E:/GraduationProject/datas/phone06.txt\n",
      "E:/GraduationProject/datas/phone07.txt\n",
      "E:/GraduationProject/datas/phone08.txt\n",
      "E:/GraduationProject/datas/phone09.txt\n",
      "E:/GraduationProject/datas/phone10.txt\n",
      "E:/GraduationProject/datas/phone11.txt\n",
      "E:/GraduationProject/datas/phone12.txt\n",
      "E:/GraduationProject/datas/phone13.txt\n",
      "E:/GraduationProject/datas/phone14.txt\n",
      "E:/GraduationProject/datas/phone15.txt\n",
      "E:/GraduationProject/datas/phone16.txt\n",
      "E:/GraduationProject/datas/phone17.txt\n",
      "E:/GraduationProject/datas/phone18.txt\n",
      "E:/GraduationProject/datas/phone19.txt\n",
      "E:/GraduationProject/datas/phone20.txt\n",
      "E:/GraduationProject/datas/phone21.txt\n",
      "E:/GraduationProject/datas/phone22.txt\n",
      "E:/GraduationProject/datas/phone23.txt\n",
      "E:/GraduationProject/datas/phone24.txt\n",
      "E:/GraduationProject/datas/phone25.txt\n",
      "E:/GraduationProject/datas/phone26.txt\n",
      "E:/GraduationProject/datas/phone27.txt\n",
      "E:/GraduationProject/datas/phone28.txt\n",
      "E:/GraduationProject/datas/phone29.txt\n",
      "E:/GraduationProject/datas/phone30.txt\n",
      "E:/GraduationProject/datas/phone31.txt\n",
      "E:/GraduationProject/datas/phone32.txt\n",
      "E:/GraduationProject/datas/phone33.txt\n",
      "E:/GraduationProject/datas/phone34.txt\n",
      "E:/GraduationProject/datas/phone35.txt\n",
      "E:/GraduationProject/datas/phone36.txt\n",
      "E:/GraduationProject/datas/phone37.txt\n",
      "E:/GraduationProject/datas/phone38.txt\n",
      "E:/GraduationProject/datas/phone39.txt\n",
      "E:/GraduationProject/datas/phone40.txt\n",
      "E:/GraduationProject/datas/phone41.txt\n",
      "E:/GraduationProject/datas/phone42.txt\n",
      "E:/GraduationProject/datas/phone43.txt\n"
     ]
    }
   ],
   "source": [
    "phone = [[] for i in range(len(nums))]\n",
    "temp = 1\n",
    "# phone[X] is MAC address of phoneX\n",
    "while temp in nums:\n",
    "    for data in text_lines:\n",
    "        Id = turnInt(data)\n",
    "        if Id == temp:\n",
    "            phone[temp - 1].append(data)\n",
    "    temp+=1\n",
    "for num in nums:\n",
    "    if num < 10:\n",
    "        filename = 'E:/GraduationProject/datas/phone0' + str(num) + '.txt'\n",
    "    else:\n",
    "        filename = 'E:/GraduationProject/datas/phone' + str(num) + '.txt'\n",
    "    print(filename)\n",
    "    with open(filename,\"w\") as f:\n",
    "        for i in phone[num - 1]:\n",
    "            f.write(i)"
   ],
   "metadata": {
    "collapsed": false,
    "pycharm": {
     "name": "#%%\n"
    }
   }
  },
  {
   "cell_type": "code",
   "execution_count": null,
   "outputs": [],
   "source": [],
   "metadata": {
    "collapsed": false,
    "pycharm": {
     "name": "#%%\n"
    }
   }
  }
 ],
 "metadata": {
  "kernelspec": {
   "display_name": "Python 3 (ipykernel)",
   "language": "python",
   "name": "python3"
  },
  "language_info": {
   "codemirror_mode": {
    "name": "ipython",
    "version": 3
   },
   "file_extension": ".py",
   "mimetype": "text/x-python",
   "name": "python",
   "nbconvert_exporter": "python",
   "pygments_lexer": "ipython3",
   "version": "3.8.5"
  }
 },
 "nbformat": 4,
 "nbformat_minor": 1
}