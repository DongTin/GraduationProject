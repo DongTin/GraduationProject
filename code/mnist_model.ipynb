{
 "cells": [
  {
   "cell_type": "markdown",
   "metadata": {
    "id": "M4mfbv_yi3nY"
   },
   "source": [
    "author:jasonczc@qq.com"
   ]
  },
  {
   "cell_type": "markdown",
   "metadata": {
    "id": "vRcZiBR-QiPl"
   },
   "source": [
    "1.引入需要的库"
   ]
  },
  {
   "cell_type": "code",
   "execution_count": null,
   "metadata": {
    "id": "Dodr6w6xQFmI",
    "pycharm": {
     "is_executing": true
    }
   },
   "outputs": [],
   "source": [
    "import numpy as np\n",
    "import tensorflow as tf\n",
    "import tensorflow.keras as keras\n",
    "from tensorflow.keras.datasets import mnist\n",
    "from tensorflow.python.keras import utils\n",
    "import tensorflow.keras.layers as layers\n",
    "from tensorflow.keras import utils\n",
    "import matplotlib.pyplot as plt\n",
    "from tensorflow.keras.models import Sequential\n",
    "# C:\\Users\\28191\\AppData\\Roaming\\jupyter\\runtime"
   ]
  },
  {
   "cell_type": "markdown",
   "metadata": {
    "id": "JunZgThYQqk5"
   },
   "source": [
    "2.下载数据集"
   ]
  },
  {
   "cell_type": "code",
   "execution_count": null,
   "metadata": {
    "colab": {
     "base_uri": "https://localhost:8080/"
    },
    "id": "y75c571hQsQr",
    "outputId": "1152edde-03c8-444b-e448-6b5a22c96381",
    "pycharm": {
     "is_executing": true
    }
   },
   "outputs": [],
   "source": [
    "(x_train,y_train),(x_test,y_test) = mnist.load_data()"
   ]
  },
  {
   "cell_type": "markdown",
   "metadata": {
    "id": "A3Dp9Y2gQ7TO"
   },
   "source": [
    "3.1 视察数据情况"
   ]
  },
  {
   "cell_type": "code",
   "execution_count": null,
   "metadata": {
    "colab": {
     "base_uri": "https://localhost:8080/"
    },
    "id": "Pws0FXPIQ_4d",
    "outputId": "c007170a-6674-45ad-aaab-110577be6ea0",
    "pycharm": {
     "is_executing": true
    }
   },
   "outputs": [],
   "source": [
    "x_train.shape"
   ]
  },
  {
   "cell_type": "markdown",
   "metadata": {
    "id": "pgiUfpnjRF6H"
   },
   "source": [
    "3.2 flat数据，变为一维度"
   ]
  },
  {
   "cell_type": "code",
   "execution_count": null,
   "metadata": {
    "id": "WRiUpJTIRzDP",
    "pycharm": {
     "is_executing": true
    }
   },
   "outputs": [],
   "source": [
    "reshape3to2 = lambda a : a.reshape(a.shape[0],a.shape[1]*a.shape[2])"
   ]
  },
  {
   "cell_type": "markdown",
   "metadata": {
    "id": "gKFYJRqVSZij"
   },
   "source": [
    "3.3 调整数据类型变为float"
   ]
  },
  {
   "cell_type": "code",
   "execution_count": 5,
   "metadata": {
    "id": "uxN3uEM6SjWq"
   },
   "outputs": [],
   "source": [
    "asfloat = lambda a : a.astype('float32')"
   ]
  },
  {
   "cell_type": "markdown",
   "metadata": {
    "id": "JX8pPgr6TIRd"
   },
   "source": [
    "3.4 归一化"
   ]
  },
  {
   "cell_type": "code",
   "execution_count": 6,
   "metadata": {
    "id": "EO32kRq6THDV"
   },
   "outputs": [],
   "source": [
    "normalization = lambda a : a/255 # RGB的值最大是255"
   ]
  },
  {
   "cell_type": "markdown",
   "metadata": {
    "id": "b7y9aMVvTOWy"
   },
   "source": [
    "3.5 对结果ONE_HOT编码"
   ]
  },
  {
   "cell_type": "code",
   "execution_count": 7,
   "metadata": {
    "id": "8RicKNHmTWQg"
   },
   "outputs": [],
   "source": [
    "one_hot_result = lambda a : utils.to_categorical(a,10)"
   ]
  },
  {
   "cell_type": "markdown",
   "metadata": {
    "id": "Kmuxve5uTdUm"
   },
   "source": [
    "3.6 处理"
   ]
  },
  {
   "cell_type": "code",
   "execution_count": 8,
   "metadata": {
    "id": "ITK_MhdVTf81"
   },
   "outputs": [],
   "source": [
    "batch_handle_data = lambda a : normalization(asfloat(reshape3to2(a)))\n",
    "batch_handle_tag = lambda a : one_hot_result(a)\n",
    "\n",
    "x_train = batch_handle_data(x_train)\n",
    "x_test = batch_handle_data(x_test)\n",
    "\n",
    "y_train = batch_handle_tag(y_train)\n",
    "y_test = batch_handle_tag(y_test)\n",
    "\n",
    "\n",
    "#x_train = np.expand_dims(x_train, -1) #这个API可以扩展维度，比如把二维变成三维\n",
    "#x_test = np.expand_dims(x_test, -1)"
   ]
  },
  {
   "cell_type": "markdown",
   "metadata": {
    "id": "2gQVtp8DVG8U"
   },
   "source": [
    "3.7 查看处理结果"
   ]
  },
  {
   "cell_type": "code",
   "execution_count": 9,
   "metadata": {
    "colab": {
     "base_uri": "https://localhost:8080/"
    },
    "id": "8mCoQEfcVIsB",
    "outputId": "95a7a4f4-1707-4fed-e16a-e06a60c61ec5"
   },
   "outputs": [
    {
     "name": "stdout",
     "output_type": "stream",
     "text": [
      "(60000, 784)\n",
      "(60000, 10)\n"
     ]
    }
   ],
   "source": [
    "print(x_train.shape)\n",
    "print(y_train.shape)"
   ]
  },
  {
   "cell_type": "markdown",
   "metadata": {
    "id": "HEw_VrzVVPVj"
   },
   "source": [
    "4 开始构建模型-ModelOriginal"
   ]
  },
  {
   "cell_type": "markdown",
   "metadata": {
    "id": "P5GvMY9363RJ"
   },
   "source": []
  },
  {
   "cell_type": "code",
   "execution_count": 10,
   "metadata": {
    "id": "lC_1ZlAmVgqq"
   },
   "outputs": [],
   "source": [
    "# 定义一个model的子类\n",
    "class MNISTCnnOriginal(keras.Model):\n",
    "    # 定义网络的层结构\n",
    "    def __init__(self):\n",
    "        super(MNISTCnnOriginal,self).__init__()\n",
    "        self.layer1_dense = layers.Dense(1024,activation=\"relu\",name=\"dense_layer\")\n",
    "        self.layer1_normalization = layers.BatchNormalization(name=\"normalization\")\n",
    "        self.layer1_dropout = layers.Dropout(0.2)\n",
    "\n",
    "        self.layer2_dense = layers.Dense(512,kernel_regularizer=keras.regularizers.l2(0.01))\n",
    "        self.layer2_normalization = layers.BatchNormalization(name=\"normalization\")\n",
    "        self.layer2_activation = layers.Activation(\"relu\")\n",
    "        self.layer2_dropout = layers.Dropout(0.2)\n",
    "\n",
    "        self.layer_output = layers.Dense(10,activation=\"softmax\")\n",
    "\n",
    "    # 定义网络的前向传播\n",
    "    def call(self,inputs):\n",
    "        networks = [\n",
    "                    self.layer1_dense,\n",
    "                    self.layer1_normalization,\n",
    "                    self.layer1_dropout,\n",
    "                    self.layer2_dense,\n",
    "                    self.layer2_normalization,\n",
    "                    self.layer2_activation,\n",
    "                    self.layer2_dropout,\n",
    "                    self.layer_output\n",
    "                    ]\n",
    "        data = inputs\n",
    "        for i in networks:\n",
    "          data = i(data)\n",
    "        return data\n",
    "    "
   ]
  },
  {
   "cell_type": "code",
   "execution_count": 11,
   "metadata": {
    "colab": {
     "base_uri": "https://localhost:8080/"
    },
    "id": "Wgt-wlN6-AIJ",
    "outputId": "43b1d84b-67d9-45fa-eeaa-ad48f62950ac"
   },
   "outputs": [
    {
     "data": {
      "text/plain": [
       "(60000, 784)"
      ]
     },
     "execution_count": 11,
     "metadata": {},
     "output_type": "execute_result"
    }
   ],
   "source": [
    "x_train.shape"
   ]
  },
  {
   "cell_type": "code",
   "execution_count": 12,
   "metadata": {
    "colab": {
     "base_uri": "https://localhost:8080/"
    },
    "id": "TKVwWS7vaJdn",
    "outputId": "8e34fa7b-9c88-4aae-88dc-97240b67615d"
   },
   "outputs": [
    {
     "name": "stdout",
     "output_type": "stream",
     "text": [
      "Model: \"mnist_cnn_original\"\n",
      "_________________________________________________________________\n",
      " Layer (type)                Output Shape              Param #   \n",
      "=================================================================\n",
      " dense_layer (Dense)         multiple                  803840    \n",
      "                                                                 \n",
      " normalization (BatchNormali  multiple                 4096      \n",
      " zation)                                                         \n",
      "                                                                 \n",
      " dropout (Dropout)           multiple                  0         \n",
      "                                                                 \n",
      " dense (Dense)               multiple                  524800    \n",
      "                                                                 \n",
      " normalization (BatchNormali  multiple                 2048      \n",
      " zation)                                                         \n",
      "                                                                 \n",
      " activation (Activation)     multiple                  0         \n",
      "                                                                 \n",
      " dropout_1 (Dropout)         multiple                  0         \n",
      "                                                                 \n",
      " dense_1 (Dense)             multiple                  5130      \n",
      "                                                                 \n",
      "=================================================================\n",
      "Total params: 1,339,914\n",
      "Trainable params: 1,336,842\n",
      "Non-trainable params: 3,072\n",
      "_________________________________________________________________\n"
     ]
    }
   ],
   "source": [
    "model = MNISTCnnOriginal()\n",
    "model(x_train)\n",
    "utils.plot_model(model)\n",
    "model.summary()"
   ]
  },
  {
   "cell_type": "code",
   "execution_count": 13,
   "metadata": {
    "id": "uUqEq6NybA5V"
   },
   "outputs": [],
   "source": [
    "model.compile(loss=\"categorical_crossentropy\", optimizer=\"adam\", metrics=[\"accuracy\"])\n"
   ]
  },
  {
   "cell_type": "code",
   "execution_count": 14,
   "metadata": {
    "colab": {
     "base_uri": "https://localhost:8080/"
    },
    "id": "VP1CTS0YbGrZ",
    "outputId": "794b1ea5-181a-4a28-e9c9-f6b42d23751b"
   },
   "outputs": [
    {
     "name": "stdout",
     "output_type": "stream",
     "text": [
      "Epoch 1/15\n",
      "422/422 [==============================] - 6s 8ms/step - loss: 1.1627 - accuracy: 0.9327 - val_loss: 0.3205 - val_accuracy: 0.9602\n",
      "Epoch 2/15\n",
      "422/422 [==============================] - 3s 8ms/step - loss: 0.3035 - accuracy: 0.9586 - val_loss: 0.2754 - val_accuracy: 0.9682\n",
      "Epoch 3/15\n",
      "422/422 [==============================] - 3s 8ms/step - loss: 0.2683 - accuracy: 0.9657 - val_loss: 0.2336 - val_accuracy: 0.9750\n",
      "Epoch 4/15\n",
      "422/422 [==============================] - 3s 8ms/step - loss: 0.2463 - accuracy: 0.9695 - val_loss: 0.2784 - val_accuracy: 0.9647\n",
      "Epoch 5/15\n",
      "422/422 [==============================] - 3s 8ms/step - loss: 0.2342 - accuracy: 0.9720 - val_loss: 0.2340 - val_accuracy: 0.9760\n",
      "Epoch 6/15\n",
      "422/422 [==============================] - 3s 8ms/step - loss: 0.2199 - accuracy: 0.9739 - val_loss: 0.2128 - val_accuracy: 0.9747\n",
      "Epoch 7/15\n",
      "422/422 [==============================] - 3s 7ms/step - loss: 0.2125 - accuracy: 0.9759 - val_loss: 0.2319 - val_accuracy: 0.9745\n",
      "Epoch 8/15\n",
      "422/422 [==============================] - 3s 7ms/step - loss: 0.2035 - accuracy: 0.9767 - val_loss: 0.2138 - val_accuracy: 0.9770\n",
      "Epoch 9/15\n",
      "422/422 [==============================] - 3s 8ms/step - loss: 0.1965 - accuracy: 0.9772 - val_loss: 0.1999 - val_accuracy: 0.9798\n",
      "Epoch 10/15\n",
      "422/422 [==============================] - 3s 7ms/step - loss: 0.1900 - accuracy: 0.9783 - val_loss: 0.2061 - val_accuracy: 0.9762\n",
      "Epoch 11/15\n",
      "422/422 [==============================] - 3s 8ms/step - loss: 0.1791 - accuracy: 0.9801 - val_loss: 0.1884 - val_accuracy: 0.9798\n",
      "Epoch 12/15\n",
      "422/422 [==============================] - 3s 7ms/step - loss: 0.1721 - accuracy: 0.9814 - val_loss: 0.2075 - val_accuracy: 0.9753\n",
      "Epoch 13/15\n",
      "422/422 [==============================] - 3s 7ms/step - loss: 0.1684 - accuracy: 0.9816 - val_loss: 0.1847 - val_accuracy: 0.9778\n",
      "Epoch 14/15\n",
      "422/422 [==============================] - 3s 8ms/step - loss: 0.1639 - accuracy: 0.9822 - val_loss: 0.2008 - val_accuracy: 0.9738\n",
      "Epoch 15/15\n",
      "422/422 [==============================] - 3s 8ms/step - loss: 0.1560 - accuracy: 0.9833 - val_loss: 0.1782 - val_accuracy: 0.9785\n"
     ]
    }
   ],
   "source": [
    "history = model.fit(x_train,y_train,epochs=15,batch_size=128,validation_data=(x_test,y_test),verbose=1, validation_split=0.1)"
   ]
  },
  {
   "cell_type": "code",
   "execution_count": 15,
   "metadata": {
    "colab": {
     "base_uri": "https://localhost:8080/"
    },
    "id": "FQ2bd_XoEFTf",
    "outputId": "c668bdfb-2949-4e82-b33f-adfc6567bc2a"
   },
   "outputs": [
    {
     "data": {
      "text/plain": [
       "(60000, 784)"
      ]
     },
     "execution_count": 15,
     "metadata": {},
     "output_type": "execute_result"
    }
   ],
   "source": [
    "x_train.shape"
   ]
  },
  {
   "cell_type": "markdown",
   "metadata": {
    "id": "QTBjxDzTbu3W"
   },
   "source": [
    "查看一些训练信息"
   ]
  },
  {
   "cell_type": "code",
   "execution_count": 16,
   "metadata": {
    "id": "M47zv754bvim"
   },
   "outputs": [],
   "source": [
    "def show_info(x):\n",
    "  plt.figure()\n",
    "  for i in x:\n",
    "    plt.plot(i[0],label=i[1])\n",
    "  plt.legend()\n",
    "  plt.grid()\n",
    "# 损失函数\n"
   ]
  },
  {
   "cell_type": "code",
   "execution_count": 17,
   "metadata": {
    "colab": {
     "base_uri": "https://localhost:8080/",
     "height": 515
    },
    "id": "AzEJIGycb9N5",
    "outputId": "f5c6849d-3ae3-43fe-ed36-8a41aa678f1c"
   },
   "outputs": [
    {
     "data": {
      "image/png": "[encoded data removed]",
      "text/plain": [
       "<Figure size 432x288 with 1 Axes>"
      ]
     },
     "metadata": {
      "needs_background": "light"
     },
     "output_type": "display_data"
    },
    {
     "data": {
      "image/png": "[encoded data removed]",
      "text/plain": [
       "<Figure size 432x288 with 1 Axes>"
      ]
     },
     "metadata": {
      "needs_background": "light"
     },
     "output_type": "display_data"
    }
   ],
   "source": [
    "show_info([\n",
    "           [history.history['loss'],\"train\"],\n",
    "           [history.history[\"val_loss\"],\"val\"]\n",
    "           ])\n",
    "show_info([\n",
    "           [history.history['accuracy'],\"acc\"]\n",
    "])"
   ]
  }
 ],
 "metadata": {
  "accelerator": "GPU",
  "colab": {
   "collapsed_sections": [],
   "name": "mnist_model.ipynb",
   "provenance": []
  },
  "kernelspec": {
   "name": "tensorbase",
   "language": "python",
   "display_name": "Python (tensorbase)"
  },
  "language_info": {
   "name": "python"
  }
 },
 "nbformat": 4,
 "nbformat_minor": 1
}